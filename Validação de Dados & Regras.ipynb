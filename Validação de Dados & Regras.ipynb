{
 "cells": [
  {
   "cell_type": "markdown",
   "metadata": {},
   "source": [
    "# <center>Curso de Auditoria de Dados"
   ]
  },
  {
   "cell_type": "markdown",
   "metadata": {},
   "source": [
    "## <center>Flávio Brito"
   ]
  },
  {
   "cell_type": "markdown",
   "metadata": {},
   "source": [
    "---"
   ]
  },
  {
   "cell_type": "markdown",
   "metadata": {},
   "source": [
    "# Introdução a Validação de Dados"
   ]
  },
  {
   "cell_type": "markdown",
   "metadata": {},
   "source": [
    "O pacote validate destina-se a fazer a verificação de seus dados de foma fácil e reprodutível. O pacote permite testar seus dados contra regras predefinidas de forma direta ou através de conjuntos de regras importadas de arquivos estruturados ou de formato livre\n",
    "Desta forma, permite-se ao auditori investigar e visualizar os resultados de uma etapa de validação de dados.\n"
   ]
  },
  {
   "cell_type": "markdown",
   "metadata": {},
   "source": [
    "‎Existem alguns substantivos relacionados à infra-estrutura oferecida pelo validar:\n"
   ]
  },
  {
   "cell_type": "markdown",
   "metadata": {},
   "source": [
    "* <b>data set:</b> seus dados;\n",
    "* <b>validator:</b> um objeto representando um conjunto de regras que os seus dados devem satisfazer;\n",
    "* <b>confrontation:</b> um objeto representando os resultados de um confrontamento das regras com seus dados\n",
    "\n",
    "Existe um verbo denominado:\n",
    "\n",
    "<b>confront</b>: avalia a validação das regras no contexto de um ou mais conjunto de dados"
   ]
  },
  {
   "cell_type": "markdown",
   "metadata": {},
   "source": [
    "‎Aqui está um exemplo demonstrando o fluxo de trabalho típico‎"
   ]
  },
  {
   "cell_type": "code",
   "execution_count": 14,
   "metadata": {
    "collapsed": false
   },
   "outputs": [
    {
     "data": {
      "text/plain": [
       "     height         weight     \n",
       " Min.   :58.0   Min.   :115.0  \n",
       " 1st Qu.:61.5   1st Qu.:124.5  \n",
       " Median :65.0   Median :135.0  \n",
       " Mean   :65.0   Mean   :136.7  \n",
       " 3rd Qu.:68.5   3rd Qu.:148.0  \n",
       " Max.   :72.0   Max.   :164.0  "
      ]
     },
     "metadata": {},
     "output_type": "display_data"
    }
   ],
   "source": [
    "data(women)\n",
    "summary(women)"
   ]
  },
  {
   "cell_type": "code",
   "execution_count": 15,
   "metadata": {
    "collapsed": false
   },
   "outputs": [
    {
     "data": {
      "text/html": [
       "<table>\n",
       "<thead><tr><th></th><th scope=col>height</th><th scope=col>weight</th></tr></thead>\n",
       "<tbody>\n",
       "\t<tr><th scope=row>1</th><td> 58</td><td>115</td></tr>\n",
       "\t<tr><th scope=row>2</th><td> 59</td><td>117</td></tr>\n",
       "\t<tr><th scope=row>3</th><td> 60</td><td>120</td></tr>\n",
       "\t<tr><th scope=row>4</th><td> 61</td><td>123</td></tr>\n",
       "\t<tr><th scope=row>5</th><td> 62</td><td>126</td></tr>\n",
       "\t<tr><th scope=row>6</th><td> 63</td><td>129</td></tr>\n",
       "</tbody>\n",
       "</table>\n"
      ],
      "text/latex": [
       "\\begin{tabular}{r|ll}\n",
       "  & height & weight\\\\\n",
       "\\hline\n",
       "\t1 &  58 & 115\\\\\n",
       "\t2 &  59 & 117\\\\\n",
       "\t3 &  60 & 120\\\\\n",
       "\t4 &  61 & 123\\\\\n",
       "\t5 &  62 & 126\\\\\n",
       "\t6 &  63 & 129\\\\\n",
       "\\end{tabular}\n"
      ],
      "text/plain": [
       "  height weight\n",
       "1     58    115\n",
       "2     59    117\n",
       "3     60    120\n",
       "4     61    123\n",
       "5     62    126\n",
       "6     63    129"
      ]
     },
     "metadata": {},
     "output_type": "display_data"
    }
   ],
   "source": [
    "head(women)"
   ]
  },
  {
   "cell_type": "markdown",
   "metadata": {},
   "source": [
    "‎O processo de validação de dados visa verificar se um conjunto de dados reúne presunções ou expectativas coincidem com os dados analisados. \n",
    "Através do pacote validate isso fica mais rápido e fácil de verificar. Vejamos:"
   ]
  },
  {
   "cell_type": "code",
   "execution_count": 10,
   "metadata": {
    "collapsed": false
   },
   "outputs": [
    {
     "name": "stderr",
     "output_type": "stream",
     "text": [
      "also installing the dependency 'settings'\n",
      "\n"
     ]
    },
    {
     "name": "stdout",
     "output_type": "stream",
     "text": [
      "package 'settings' successfully unpacked and MD5 sums checked\n",
      "package 'validate' successfully unpacked and MD5 sums checked\n",
      "\n",
      "The downloaded binary packages are in\n",
      "\tC:\\Users\\flavi\\AppData\\Local\\Temp\\RtmpeSFrtT\\downloaded_packages\n"
     ]
    }
   ],
   "source": [
    "install.packages(\"validate\", repos=\"https://cloud.r-project.org\")"
   ]
  },
  {
   "cell_type": "code",
   "execution_count": 11,
   "metadata": {
    "collapsed": false
   },
   "outputs": [
    {
     "name": "stderr",
     "output_type": "stream",
     "text": [
      "Warning message:\n",
      "\"package 'validate' was built under R version 3.3.2\""
     ]
    }
   ],
   "source": [
    "library(validate)"
   ]
  },
  {
   "cell_type": "code",
   "execution_count": null,
   "metadata": {
    "collapsed": true
   },
   "outputs": [],
   "source": []
  },
  {
   "cell_type": "markdown",
   "metadata": {},
   "source": [
    "Vamos construir uma regra de validação para ser aplicada no data frame women:"
   ]
  },
  {
   "cell_type": "code",
   "execution_count": 13,
   "metadata": {
    "collapsed": false
   },
   "outputs": [
    {
     "data": {
      "text/html": [
       "<table>\n",
       "<thead><tr><th></th><th scope=col>rule</th><th scope=col>items</th><th scope=col>passes</th><th scope=col>fails</th><th scope=col>nNA</th><th scope=col>error</th><th scope=col>warning</th><th scope=col>expression</th></tr></thead>\n",
       "<tbody>\n",
       "\t<tr><th scope=row>1</th><td>V1           </td><td>15           </td><td>15           </td><td>0            </td><td>0            </td><td>FALSE        </td><td>FALSE        </td><td>height &gt; 0</td></tr>\n",
       "\t<tr><th scope=row>2</th><td>V2           </td><td>15           </td><td>15           </td><td>0            </td><td>0            </td><td>FALSE        </td><td>FALSE        </td><td>weight &gt; 0</td></tr>\n",
       "\t<tr><th scope=row>3</th><td>V3                    </td><td>15                    </td><td>2                     </td><td>13                    </td><td>0                     </td><td>FALSE                 </td><td>FALSE                 </td><td>height/weight &gt; 0.5</td></tr>\n",
       "</tbody>\n",
       "</table>\n"
      ],
      "text/latex": [
       "\\begin{tabular}{r|llllllll}\n",
       "  & rule & items & passes & fails & nNA & error & warning & expression\\\\\n",
       "\\hline\n",
       "\t1 & V1         & 15         & 15         & 0          & 0          & FALSE      & FALSE      & height > 0\\\\\n",
       "\t2 & V2         & 15         & 15         & 0          & 0          & FALSE      & FALSE      & weight > 0\\\\\n",
       "\t3 & V3                  & 15                  & 2                   & 13                  & 0                   & FALSE               & FALSE               & height/weight > 0.5\\\\\n",
       "\\end{tabular}\n"
      ],
      "text/plain": [
       "  rule items passes fails nNA error warning          expression\n",
       "1   V1    15     15     0   0 FALSE   FALSE          height > 0\n",
       "2   V2    15     15     0   0 FALSE   FALSE          weight > 0\n",
       "3   V3    15      2    13   0 FALSE   FALSE height/weight > 0.5"
      ]
     },
     "metadata": {},
     "output_type": "display_data"
    }
   ],
   "source": [
    "cf <- check_that(women, height > 0, weight > 0, height/weight > 0.5)\n",
    "summary(cf)"
   ]
  },
  {
   "cell_type": "markdown",
   "metadata": {},
   "source": [
    "O <b>check_that</b> retorna um objeto que contém todos os tipos de informações sobre os resultados da validação.‎A maneira mais fácil para verificar os resultados \n",
    "é através da função <b>summary</b> que irá retornar um data frame com as seguintes informações:"
   ]
  },
  {
   "cell_type": "markdown",
   "metadata": {},
   "source": [
    "‎Quantos dados itens foram verificados contra cada regra‎\n",
    "‎Quantos itens passaram, falharam ou resultaram em ‎NA\n",
    "‎Se a seleção resultou em um erro (não pôde ser executada) ou deu um erro‎\n",
    "‎A expressão que na verdade foi avaliada para executar a verificação.‎"
   ]
  },
  {
   "cell_type": "markdown",
   "metadata": {},
   "source": [
    "Esta mesma informação pode ser vista graficamente"
   ]
  },
  {
   "cell_type": "code",
   "execution_count": 16,
   "metadata": {
    "collapsed": false
   },
   "outputs": [
    {
     "data": {
      "image/png": "[encoded data removed]",
      "text/plain": [
       "Plot with title \"Controles sobre o conjunto de dados - Women\""
      ]
     },
     "metadata": {},
     "output_type": "display_data"
    }
   ],
   "source": [
    "barplot(cf,main=\"Controles sobre o conjunto de dados - Women\")"
   ]
  },
  {
   "cell_type": "markdown",
   "metadata": {},
   "source": [
    "# Objetos de Validação"
   ]
  },
  {
   "cell_type": "markdown",
   "metadata": {},
   "source": [
    "São usados para armazenar, investigar e manipular o conjunto de regras"
   ]
  },
  {
   "cell_type": "code",
   "execution_count": 18,
   "metadata": {
    "collapsed": false
   },
   "outputs": [
    {
     "data": {
      "text/plain": [
       "Object of class 'validator' with 3 elements:\n",
       " V1: height > 0\n",
       " V2: weight > 0\n",
       " V3: height/weight > 0"
      ]
     },
     "metadata": {},
     "output_type": "display_data"
    }
   ],
   "source": [
    "v <- validator(height > 0, weight > 0, height/weight > 0)\n",
    "v"
   ]
  },
  {
   "cell_type": "markdown",
   "metadata": {},
   "source": [
    "O objeto de validação armazena a regra e a associa nomes a ela para futura referência. Para verificar isso, basta que confrontemos os dados\n",
    "com as regras de validação que definimos:"
   ]
  },
  {
   "cell_type": "code",
   "execution_count": 19,
   "metadata": {
    "collapsed": false
   },
   "outputs": [
    {
     "data": {
      "text/plain": [
       "Object of class 'validation'\n",
       "Call:\n",
       "    confront(x = women, dat = v)\n",
       "\n",
       "Confrontations: 3\n",
       "With fails    : 0\n",
       "Warnings      : 0\n",
       "Errors        : 0"
      ]
     },
     "metadata": {},
     "output_type": "display_data"
    }
   ],
   "source": [
    "cf <- confront(women,v)\n",
    "cf"
   ]
  },
  {
   "cell_type": "markdown",
   "metadata": {},
   "source": [
    "O objeto <b>cf</b> contém os resultado do dado verificado em <b>women</b> contra o que se definiu em v. O fato de não se ter nem \n",
    "avisos(warnings) nem erros indica que cada regra pôde ser avaliada com sucesso.\n",
    "\n",
    "‎Agora, suponha que esperamos que o IMC (peso dividido pela altura ao quadrado) de cada item deve ser inferior a 23. Precisamos expressar o peso em quilogramas e a altura em metros, o IMC será:‎"
   ]
  },
  {
   "cell_type": "markdown",
   "metadata": {},
   "source": [
    "$\n",
    "\\begin{equation} \n",
    "IMC = \\frac{peso\\times0.45359}{(altura\\times0.0254)^2}\n",
    "\\end{equation}\n",
    "$\n"
   ]
  },
  {
   "cell_type": "markdown",
   "metadata": {},
   "source": [
    "‎Além disso, suponha que nós suspeitamos que o IMC médio está entre 22 e 22,5. Vamos criar outro objeto validador que primeiro calcula o IMC e depois testar se a valores de IMC de acordo com nossa suspeita."
   ]
  },
  {
   "cell_type": "code",
   "execution_count": 20,
   "metadata": {
    "collapsed": false
   },
   "outputs": [
    {
     "data": {
      "text/plain": [
       "Object of class 'validator' with 5 elements:\n",
       " V1: `:=`(IMC, (weight * 0.45359)/(height * 0.0254)^2)\n",
       " V2: height > 0\n",
       " V3: weight > 0\n",
       " V4: IMC < 23\n",
       " V5: mean(IMC) > 22 & mean(IMC) < 22.5"
      ]
     },
     "metadata": {},
     "output_type": "display_data"
    }
   ],
   "source": [
    "v <- validator(\n",
    "  IMC := (weight*0.45359)/(height*0.0254)^2\n",
    "  , height > 0\n",
    "  , weight > 0\n",
    "  , IMC < 23\n",
    "  , mean(IMC) > 22 & mean(IMC) < 22.5\n",
    ")\n",
    "v"
   ]
  },
  {
   "cell_type": "markdown",
   "metadata": {},
   "source": [
    "A verificação fica fácil agora:"
   ]
  },
  {
   "cell_type": "code",
   "execution_count": 21,
   "metadata": {
    "collapsed": false
   },
   "outputs": [
    {
     "data": {
      "text/html": [
       "<table>\n",
       "<thead><tr><th></th><th scope=col>rule</th><th scope=col>items</th><th scope=col>passes</th><th scope=col>fails</th><th scope=col>nNA</th><th scope=col>error</th><th scope=col>warning</th><th scope=col>expression</th></tr></thead>\n",
       "<tbody>\n",
       "\t<tr><th scope=row>1</th><td>V2           </td><td>15           </td><td>15           </td><td>0            </td><td>0            </td><td>FALSE        </td><td>FALSE        </td><td>height &gt; 0</td></tr>\n",
       "\t<tr><th scope=row>2</th><td>V3           </td><td>15           </td><td>15           </td><td>0            </td><td>0            </td><td>FALSE        </td><td>FALSE        </td><td>weight &gt; 0</td></tr>\n",
       "\t<tr><th scope=row>3</th><td>V4                                              </td><td>15                                              </td><td>10                                              </td><td>5                                               </td><td>0                                               </td><td>FALSE                                           </td><td>FALSE                                           </td><td>((weight * 0.45359)/(height * 0.0254)^2) &lt; 23</td></tr>\n",
       "\t<tr><th scope=row>4</th><td>V5                                                                                                                   </td><td>1                                                                                                                    </td><td>0                                                                                                                    </td><td>1                                                                                                                    </td><td>0                                                                                                                    </td><td>FALSE                                                                                                                </td><td>FALSE                                                                                                                </td><td>mean(((weight * 0.45359)/(height * 0.0254)^2)) &gt; 22 &amp; mean(((weight * 0.45359)/(height * 0.0254)^2)) &lt; 22.5</td></tr>\n",
       "</tbody>\n",
       "</table>\n"
      ],
      "text/latex": [
       "\\begin{tabular}{r|llllllll}\n",
       "  & rule & items & passes & fails & nNA & error & warning & expression\\\\\n",
       "\\hline\n",
       "\t1 & V2         & 15         & 15         & 0          & 0          & FALSE      & FALSE      & height > 0\\\\\n",
       "\t2 & V3         & 15         & 15         & 0          & 0          & FALSE      & FALSE      & weight > 0\\\\\n",
       "\t3 & V4                                                              & 15                                                              & 10                                                              & 5                                                               & 0                                                               & FALSE                                                           & FALSE                                                           & ((weight * 0.45359)/(height * 0.0254)\\textasciicircum{}2) < 23\\\\\n",
       "\t4 & V5                                                                                                                                                & 1                                                                                                                                                 & 0                                                                                                                                                 & 1                                                                                                                                                 & 0                                                                                                                                                 & FALSE                                                                                                                                             & FALSE                                                                                                                                             & mean(((weight * 0.45359)/(height * 0.0254)\\textasciicircum{}2)) > 22 \\& mean(((weight * 0.45359)/(height * 0.0254)\\textasciicircum{}2)) < 22.5\\\\\n",
       "\\end{tabular}\n"
      ],
      "text/plain": [
       "  rule items passes fails nNA error warning\n",
       "1   V2    15     15     0   0 FALSE   FALSE\n",
       "2   V3    15     15     0   0 FALSE   FALSE\n",
       "3   V4    15     10     5   0 FALSE   FALSE\n",
       "4   V5     1      0     1   0 FALSE   FALSE\n",
       "                                                                                                   expression\n",
       "1                                                                                                  height > 0\n",
       "2                                                                                                  weight > 0\n",
       "3                                                               ((weight * 0.45359)/(height * 0.0254)^2) < 23\n",
       "4 mean(((weight * 0.45359)/(height * 0.0254)^2)) > 22 & mean(((weight * 0.45359)/(height * 0.0254)^2)) < 22.5"
      ]
     },
     "metadata": {},
     "output_type": "display_data"
    }
   ],
   "source": [
    "cf <- confront(women,v)\n",
    "summary(cf)"
   ]
  },
  {
   "cell_type": "markdown",
   "metadata": {},
   "source": [
    "## Objetos de confronto\n"
   ]
  },
  {
   "cell_type": "markdown",
   "metadata": {},
   "source": [
    "‎O resultado do confrontamento de um objeto de validação com um conjunto de dados é um objeto de classe <b>confrontation</b>"
   ]
  },
  {
   "cell_type": "markdown",
   "metadata": {},
   "source": [
    "* <b>summary</b>: resumir a saída; Retorna um data.frame\n",
    "* <b>aggregate</b>: a validação de agregação de várias maneiras\n",
    "* <b>sort</b>: agregação e classificação de várias maneiras\n",
    "* <b>values</b>: ‎Obtém os valores em uma matriz ou uma lista, se as regras têm estrutura de dimensão diferente da saída‎\n",
    "* <b>errors</b>: Recupera mensagens de erro obtidas durante a confrontação\n",
    "* <b>warnings</b>: Recupera as mensagens de aviso obtidas durante o confrontamento."
   ]
  },
  {
   "cell_type": "markdown",
   "metadata": {},
   "source": [
    "‎Por padrão os agregados são produzidos pela regra.‎"
   ]
  },
  {
   "cell_type": "code",
   "execution_count": 23,
   "metadata": {
    "collapsed": false
   },
   "outputs": [
    {
     "data": {
      "text/html": [
       "<table>\n",
       "<thead><tr><th></th><th scope=col>npass</th><th scope=col>nfail</th><th scope=col>nNA</th><th scope=col>rel.pass</th><th scope=col>rel.fail</th><th scope=col>rel.NA</th></tr></thead>\n",
       "<tbody>\n",
       "\t<tr><th scope=row>V1</th><td>15</td><td> 0</td><td> 0</td><td> 1</td><td> 0</td><td> 0</td></tr>\n",
       "\t<tr><th scope=row>V2</th><td>15</td><td> 0</td><td> 0</td><td> 1</td><td> 0</td><td> 0</td></tr>\n",
       "\t<tr><th scope=row>V3</th><td>12.0</td><td> 3.0</td><td> 0.0</td><td> 0.8</td><td> 0.2</td><td> 0.0</td></tr>\n",
       "</tbody>\n",
       "</table>\n"
      ],
      "text/latex": [
       "\\begin{tabular}{r|llllll}\n",
       "  & npass & nfail & nNA & rel.pass & rel.fail & rel.NA\\\\\n",
       "\\hline\n",
       "\tV1 & 15 &  0 &  0 &  1 &  0 &  0\\\\\n",
       "\tV2 & 15 &  0 &  0 &  1 &  0 &  0\\\\\n",
       "\tV3 & 12.0 &  3.0 &  0.0 &  0.8 &  0.2 &  0.0\\\\\n",
       "\\end{tabular}\n"
      ],
      "text/plain": [
       "   npass nfail nNA rel.pass rel.fail rel.NA\n",
       "V1    15     0   0      1.0      0.0      0\n",
       "V2    15     0   0      1.0      0.0      0\n",
       "V3    12     3   0      0.8      0.2      0"
      ]
     },
     "metadata": {},
     "output_type": "display_data"
    }
   ],
   "source": [
    "cf <- check_that(women, height>0, weight>0,height/weight < 0.5)\n",
    "aggregate(cf) "
   ]
  },
  {
   "cell_type": "markdown",
   "metadata": {},
   "source": [
    "‎Para agregar por registro use by=\"record\""
   ]
  },
  {
   "cell_type": "code",
   "execution_count": 24,
   "metadata": {
    "collapsed": false
   },
   "outputs": [
    {
     "data": {
      "text/html": [
       "<table>\n",
       "<thead><tr><th></th><th scope=col>npass</th><th scope=col>nfail</th><th scope=col>nNA</th><th scope=col>rel.pass</th><th scope=col>rel.fail</th><th scope=col>rel.NA</th></tr></thead>\n",
       "<tbody>\n",
       "\t<tr><th scope=row>1</th><td>2.0000000</td><td>1.0000000</td><td>0.0000000</td><td>0.6666667</td><td>0.3333333</td><td>0.0000000</td></tr>\n",
       "\t<tr><th scope=row>2</th><td>2.0000000</td><td>1.0000000</td><td>0.0000000</td><td>0.6666667</td><td>0.3333333</td><td>0.0000000</td></tr>\n",
       "\t<tr><th scope=row>3</th><td>2.0000000</td><td>1.0000000</td><td>0.0000000</td><td>0.6666667</td><td>0.3333333</td><td>0.0000000</td></tr>\n",
       "\t<tr><th scope=row>4</th><td>3</td><td>0</td><td>0</td><td>1</td><td>0</td><td>0</td></tr>\n",
       "\t<tr><th scope=row>5</th><td>3</td><td>0</td><td>0</td><td>1</td><td>0</td><td>0</td></tr>\n",
       "\t<tr><th scope=row>6</th><td>3</td><td>0</td><td>0</td><td>1</td><td>0</td><td>0</td></tr>\n",
       "</tbody>\n",
       "</table>\n"
      ],
      "text/latex": [
       "\\begin{tabular}{r|llllll}\n",
       "  & npass & nfail & nNA & rel.pass & rel.fail & rel.NA\\\\\n",
       "\\hline\n",
       "\t1 & 2.0000000 & 1.0000000 & 0.0000000 & 0.6666667 & 0.3333333 & 0.0000000\\\\\n",
       "\t2 & 2.0000000 & 1.0000000 & 0.0000000 & 0.6666667 & 0.3333333 & 0.0000000\\\\\n",
       "\t3 & 2.0000000 & 1.0000000 & 0.0000000 & 0.6666667 & 0.3333333 & 0.0000000\\\\\n",
       "\t4 & 3 & 0 & 0 & 1 & 0 & 0\\\\\n",
       "\t5 & 3 & 0 & 0 & 1 & 0 & 0\\\\\n",
       "\t6 & 3 & 0 & 0 & 1 & 0 & 0\\\\\n",
       "\\end{tabular}\n"
      ],
      "text/plain": [
       "  npass nfail nNA  rel.pass  rel.fail rel.NA\n",
       "1     2     1   0 0.6666667 0.3333333      0\n",
       "2     2     1   0 0.6666667 0.3333333      0\n",
       "3     2     1   0 0.6666667 0.3333333      0\n",
       "4     3     0   0 1.0000000 0.0000000      0\n",
       "5     3     0   0 1.0000000 0.0000000      0\n",
       "6     3     0   0 1.0000000 0.0000000      0"
      ]
     },
     "metadata": {},
     "output_type": "display_data"
    }
   ],
   "source": [
    "head(aggregate(cf,by='record'))"
   ]
  },
  {
   "cell_type": "markdown",
   "metadata": {},
   "source": [
    "‎Os resultados agregados podem ser classificados automaticamente. Os registros com mais violações ou regras que mais violaram são ordenadas pelos maiores valores."
   ]
  },
  {
   "cell_type": "code",
   "execution_count": 25,
   "metadata": {
    "collapsed": false
   },
   "outputs": [
    {
     "data": {
      "text/html": [
       "<table>\n",
       "<thead><tr><th></th><th scope=col>npass</th><th scope=col>nfail</th><th scope=col>nNA</th><th scope=col>rel.pass</th><th scope=col>rel.fail</th><th scope=col>rel.NA</th></tr></thead>\n",
       "<tbody>\n",
       "\t<tr><th scope=row>V3</th><td>12.0</td><td> 3.0</td><td> 0.0</td><td> 0.8</td><td> 0.2</td><td> 0.0</td></tr>\n",
       "\t<tr><th scope=row>V1</th><td>15</td><td> 0</td><td> 0</td><td> 1</td><td> 0</td><td> 0</td></tr>\n",
       "\t<tr><th scope=row>V2</th><td>15</td><td> 0</td><td> 0</td><td> 1</td><td> 0</td><td> 0</td></tr>\n",
       "</tbody>\n",
       "</table>\n"
      ],
      "text/latex": [
       "\\begin{tabular}{r|llllll}\n",
       "  & npass & nfail & nNA & rel.pass & rel.fail & rel.NA\\\\\n",
       "\\hline\n",
       "\tV3 & 12.0 &  3.0 &  0.0 &  0.8 &  0.2 &  0.0\\\\\n",
       "\tV1 & 15 &  0 &  0 &  1 &  0 &  0\\\\\n",
       "\tV2 & 15 &  0 &  0 &  1 &  0 &  0\\\\\n",
       "\\end{tabular}\n"
      ],
      "text/plain": [
       "   npass nfail nNA rel.pass rel.fail rel.NA\n",
       "V3    12     3   0      0.8      0.2      0\n",
       "V1    15     0   0      1.0      0.0      0\n",
       "V2    15     0   0      1.0      0.0      0"
      ]
     },
     "metadata": {},
     "output_type": "display_data"
    }
   ],
   "source": [
    "sort(cf)"
   ]
  },
  {
   "cell_type": "markdown",
   "metadata": {},
   "source": [
    "Os objetos de confrontamento podem ser filtrados com um único [], como os vetores, a fim  de obter um sub-objeto somente referente a regra selecionada.  "
   ]
  },
  {
   "cell_type": "code",
   "execution_count": 27,
   "metadata": {
    "collapsed": false
   },
   "outputs": [
    {
     "data": {
      "text/html": [
       "<table>\n",
       "<thead><tr><th></th><th scope=col>rule</th><th scope=col>items</th><th scope=col>passes</th><th scope=col>fails</th><th scope=col>nNA</th><th scope=col>error</th><th scope=col>warning</th><th scope=col>expression</th></tr></thead>\n",
       "<tbody>\n",
       "\t<tr><th scope=row>1</th><td>V1           </td><td>15           </td><td>15           </td><td>0            </td><td>0            </td><td>FALSE        </td><td>FALSE        </td><td>height &gt; 0</td></tr>\n",
       "\t<tr><th scope=row>2</th><td>V3                    </td><td>15                    </td><td>12                    </td><td>3                     </td><td>0                     </td><td>FALSE                 </td><td>FALSE                 </td><td>height/weight &lt; 0.5</td></tr>\n",
       "</tbody>\n",
       "</table>\n"
      ],
      "text/latex": [
       "\\begin{tabular}{r|llllllll}\n",
       "  & rule & items & passes & fails & nNA & error & warning & expression\\\\\n",
       "\\hline\n",
       "\t1 & V1         & 15         & 15         & 0          & 0          & FALSE      & FALSE      & height > 0\\\\\n",
       "\t2 & V3                  & 15                  & 12                  & 3                   & 0                   & FALSE               & FALSE               & height/weight < 0.5\\\\\n",
       "\\end{tabular}\n"
      ],
      "text/plain": [
       "  rule items passes fails nNA error warning          expression\n",
       "1   V1    15     15     0   0 FALSE   FALSE          height > 0\n",
       "2   V3    15     12     3   0 FALSE   FALSE height/weight < 0.5"
      ]
     },
     "metadata": {},
     "output_type": "display_data"
    }
   ],
   "source": [
    "summary(cf[c(1,3)])"
   ]
  },
  {
   "cell_type": "markdown",
   "metadata": {},
   "source": [
    "### Opções de Confrontamento"
   ]
  },
  {
   "cell_type": "markdown",
   "metadata": {},
   "source": [
    "‎Por padrão, todos os erros e avisos são detectados quando as regras de validação são confrontadas com dados‎. ‎Este pode ser desligado, \n",
    "definindo a opção <b>raise</b> para \"errors\" ou \"all\"."
   ]
  },
  {
   "cell_type": "code",
   "execution_count": 31,
   "metadata": {
    "collapsed": false
   },
   "outputs": [
    {
     "data": {
      "text/html": [
       "<table>\n",
       "<thead><tr><th></th><th scope=col>rule</th><th scope=col>items</th><th scope=col>passes</th><th scope=col>fails</th><th scope=col>nNA</th><th scope=col>error</th><th scope=col>warning</th><th scope=col>expression</th></tr></thead>\n",
       "<tbody>\n",
       "\t<tr><th scope=row>1</th><td>V1          </td><td>0           </td><td>0           </td><td>0           </td><td>0           </td><td>TRUE        </td><td>FALSE       </td><td>heite &gt; 0</td></tr>\n",
       "\t<tr><th scope=row>2</th><td>V2           </td><td>15           </td><td>15           </td><td>0            </td><td>0            </td><td>FALSE        </td><td>FALSE        </td><td>weight &gt; 0</td></tr>\n",
       "</tbody>\n",
       "</table>\n"
      ],
      "text/latex": [
       "\\begin{tabular}{r|llllllll}\n",
       "  & rule & items & passes & fails & nNA & error & warning & expression\\\\\n",
       "\\hline\n",
       "\t1 & V1        & 0         & 0         & 0         & 0         & TRUE      & FALSE     & heite > 0\\\\\n",
       "\t2 & V2         & 15         & 15         & 0          & 0          & FALSE      & FALSE      & weight > 0\\\\\n",
       "\\end{tabular}\n"
      ],
      "text/plain": [
       "  rule items passes fails nNA error warning expression\n",
       "1   V1     0      0     0   0  TRUE   FALSE  heite > 0\n",
       "2   V2    15     15     0   0 FALSE   FALSE weight > 0"
      ]
     },
     "metadata": {},
     "output_type": "display_data"
    }
   ],
   "source": [
    "v <- validator(heite > 0, weight>0)\n",
    "summary(confront(women, v))"
   ]
  },
  {
   "cell_type": "markdown",
   "metadata": {},
   "source": [
    "Enquanto aqui ele é gerado imediatamente"
   ]
  },
  {
   "cell_type": "code",
   "execution_count": 32,
   "metadata": {
    "collapsed": false
   },
   "outputs": [
    {
     "ename": "ERROR",
     "evalue": "Error in eval(expr, envir, enclos): objeto 'heite' não encontrado\n",
     "output_type": "error",
     "traceback": [
      "Error in eval(expr, envir, enclos): objeto 'heite' não encontrado\nTraceback:\n",
      "1. confront(women, v, raise = \"all\")",
      "2. confront(women, v, raise = \"all\")",
      "3. .local(dat, x, ...)",
      "4. confront_work(x, data_env, key, \"validation\", ...)",
      "5. execute(calls, dat, opts)",
      "6. lapply(calls, function(g) if (g[[1]] == \":=\") {\n .     var <- as.character(left(g))\n .     if (var %in% variables(env)) \n .         warning(sprintf(\"Locally overwriting variable '%s'\", \n .             var))\n .     assign(var, tryCatch(eval(right(g), env), error = warning), \n .         envir = env)\n . } else {\n .     val <- factory(eval, opts)(g, env)\n .     if (!is.na(opts(\"na.value\"))) {\n .         val[[1]] <- ifelse(is.na(val[[1]]), opts(\"na.value\"), \n .             val[[1]])\n .     }\n .     val\n . })",
      "7. FUN(X[[i]], ...)",
      "8. factory(eval, opts)(g, env)",
      "9. fun(...)",
      "10. eval(expr, envir, enclos)"
     ]
    }
   ],
   "source": [
    "confront(women, v, raise='all')"
   ]
  },
  {
   "cell_type": "markdown",
   "metadata": {},
   "source": [
    "# Investigando o Validador de Objetos"
   ]
  },
  {
   "cell_type": "markdown",
   "metadata": {},
   "source": [
    "Ele armazenam um conjunto de regras, opcionalmente com alguns metadados por regra. Atualmente, as funções a seguir podem ser usadas para obter ou definir metadados‎:"
   ]
  },
  {
   "cell_type": "markdown",
   "metadata": {},
   "source": [
    "* <b>origin</b>: Onde a regra foi definida?\n",
    "* <b>names</b> : O nome por regra\n",
    "* <b>created</b> : Qaundo a regra fo criada?\n",
    "* <b>label</b> : Descrição curta da regra\n",
    "* <b>description</b>: Descrição longa da regra\n",
    "\n",
    "Os nomes das regras podem ser definidos via linha de comando, ao definir um objeto do validador.‎\n"
   ]
  },
  {
   "cell_type": "code",
   "execution_count": 34,
   "metadata": {
    "collapsed": false
   },
   "outputs": [
    {
     "data": {
      "text/html": [
       "<ol class=list-inline>\n",
       "\t<li>\"rat\"</li>\n",
       "\t<li>\"htest\"</li>\n",
       "\t<li>\"wtest\"</li>\n",
       "</ol>\n"
      ],
      "text/latex": [
       "\\begin{enumerate*}\n",
       "\\item \"rat\"\n",
       "\\item \"htest\"\n",
       "\\item \"wtest\"\n",
       "\\end{enumerate*}\n"
      ],
      "text/markdown": [
       "1. \"rat\"\n",
       "2. \"htest\"\n",
       "3. \"wtest\"\n",
       "\n",
       "\n"
      ],
      "text/plain": [
       "[1] \"rat\"   \"htest\" \"wtest\""
      ]
     },
     "metadata": {},
     "output_type": "display_data"
    }
   ],
   "source": [
    "v <- validator(rat = height/weight > 0.5, htest=height>0, wtest=weight > 0)\n",
    "names(v)"
   ]
  },
  {
   "cell_type": "markdown",
   "metadata": {},
   "source": [
    "Tente também:"
   ]
  },
  {
   "cell_type": "code",
   "execution_count": 35,
   "metadata": {
    "collapsed": false
   },
   "outputs": [
    {
     "data": {
      "text/plain": [
       "Object of class 'validator' with 3 elements:\n",
       " ratio: height/weight > 0.5\n",
       " htest: height > 0\n",
       " wtest: weight > 0"
      ]
     },
     "metadata": {},
     "output_type": "display_data"
    }
   ],
   "source": [
    "names(v)[1] <- \"ratio\"\n",
    "v"
   ]
  },
  {
   "cell_type": "markdown",
   "metadata": {},
   "source": [
    "Algumas informações gerais são obtidas com: summary"
   ]
  },
  {
   "cell_type": "code",
   "execution_count": 36,
   "metadata": {
    "collapsed": false
   },
   "outputs": [
    {
     "data": {
      "text/html": [
       "<table>\n",
       "<thead><tr><th></th><th scope=col>block</th><th scope=col>nvar</th><th scope=col>rules</th><th scope=col>linear</th></tr></thead>\n",
       "<tbody>\n",
       "\t<tr><th scope=row>1</th><td>1</td><td>2</td><td>3</td><td>2</td></tr>\n",
       "</tbody>\n",
       "</table>\n"
      ],
      "text/latex": [
       "\\begin{tabular}{r|llll}\n",
       "  & block & nvar & rules & linear\\\\\n",
       "\\hline\n",
       "\t1 & 1 & 2 & 3 & 2\\\\\n",
       "\\end{tabular}\n"
      ],
      "text/plain": [
       "  block nvar rules linear\n",
       "1     1    2     3      2"
      ]
     },
     "metadata": {},
     "output_type": "display_data"
    }
   ],
   "source": [
    "summary(v)"
   ]
  },
  {
   "cell_type": "markdown",
   "metadata": {},
   "source": [
    "O número de regras pode ser obtido via <b>length</b>"
   ]
  },
  {
   "cell_type": "code",
   "execution_count": 37,
   "metadata": {
    "collapsed": false
   },
   "outputs": [
    {
     "data": {
      "text/html": [
       "3"
      ],
      "text/latex": [
       "3"
      ],
      "text/markdown": [
       "3"
      ],
      "text/plain": [
       "[1] 3"
      ]
     },
     "metadata": {},
     "output_type": "display_data"
    }
   ],
   "source": [
    "length(v)"
   ]
  },
  {
   "cell_type": "markdown",
   "metadata": {},
   "source": [
    "Com <b> variables</b> é posssível obter as variáveis que ocorrem por regra, ou sobre todas as regras. "
   ]
  },
  {
   "cell_type": "code",
   "execution_count": 38,
   "metadata": {
    "collapsed": false
   },
   "outputs": [
    {
     "data": {
      "text/html": [
       "<ol class=list-inline>\n",
       "\t<li>\"height\"</li>\n",
       "\t<li>\"weight\"</li>\n",
       "</ol>\n"
      ],
      "text/latex": [
       "\\begin{enumerate*}\n",
       "\\item \"height\"\n",
       "\\item \"weight\"\n",
       "\\end{enumerate*}\n"
      ],
      "text/markdown": [
       "1. \"height\"\n",
       "2. \"weight\"\n",
       "\n",
       "\n"
      ],
      "text/plain": [
       "[1] \"height\" \"weight\""
      ]
     },
     "metadata": {},
     "output_type": "display_data"
    }
   ],
   "source": [
    "variables(v)"
   ]
  },
  {
   "cell_type": "code",
   "execution_count": 39,
   "metadata": {
    "collapsed": false
   },
   "outputs": [
    {
     "data": {
      "text/html": [
       "<table>\n",
       "<thead><tr><th></th><th scope=col>height</th><th scope=col>weight</th></tr></thead>\n",
       "<tbody>\n",
       "\t<tr><th scope=row>ratio</th><td>TRUE</td><td>TRUE</td></tr>\n",
       "\t<tr><th scope=row>htest</th><td> TRUE</td><td>FALSE</td></tr>\n",
       "\t<tr><th scope=row>wtest</th><td>FALSE</td><td> TRUE</td></tr>\n",
       "</tbody>\n",
       "</table>\n"
      ],
      "text/latex": [
       "\\begin{tabular}{r|ll}\n",
       "  & height & weight\\\\\n",
       "\\hline\n",
       "\tratio & TRUE & TRUE\\\\\n",
       "\thtest &  TRUE & FALSE\\\\\n",
       "\twtest & FALSE &  TRUE\\\\\n",
       "\\end{tabular}\n"
      ],
      "text/markdown": [
       "1. TRUE\n",
       "2. TRUE\n",
       "3. FALSE\n",
       "4. TRUE\n",
       "5. FALSE\n",
       "6. TRUE\n",
       "\n",
       "\n"
      ],
      "text/plain": [
       "       variable\n",
       "rule    height weight\n",
       "  ratio   TRUE   TRUE\n",
       "  htest   TRUE  FALSE\n",
       "  wtest  FALSE   TRUE"
      ]
     },
     "metadata": {},
     "output_type": "display_data"
    }
   ],
   "source": [
    "variables(v,as=\"matrix\")"
   ]
  },
  {
   "cell_type": "markdown",
   "metadata": {},
   "source": [
    "O validador de objetos pode ser obtido via:"
   ]
  },
  {
   "cell_type": "code",
   "execution_count": 40,
   "metadata": {
    "collapsed": false
   },
   "outputs": [
    {
     "data": {
      "text/plain": [
       "Object of class 'validator' with 2 elements:\n",
       " ratio: height/weight > 0.5\n",
       " wtest: weight > 0\n",
       "Options:\n",
       "raise: none; lin.eq.eps: 1e-08; na.value: NA; sequential: TRUE; na.condition: FALSE"
      ]
     },
     "metadata": {},
     "output_type": "display_data"
    }
   ],
   "source": [
    "v[c(1,3)]"
   ]
  },
  {
   "cell_type": "code",
   "execution_count": 41,
   "metadata": {
    "collapsed": false
   },
   "outputs": [
    {
     "data": {
      "text/plain": [
       "Object of class 'validator' with 1 elements:\n",
       " ratio: height/weight > 0.5\n",
       "Options:\n",
       "raise: none; lin.eq.eps: 1e-08; na.value: NA; sequential: TRUE; na.condition: FALSE"
      ]
     },
     "metadata": {},
     "output_type": "display_data"
    }
   ],
   "source": [
    "v['ratio','wtest']"
   ]
  },
  {
   "cell_type": "markdown",
   "metadata": {},
   "source": [
    "Ou para retornar um único valor"
   ]
  },
  {
   "cell_type": "code",
   "execution_count": 42,
   "metadata": {
    "collapsed": false
   },
   "outputs": [
    {
     "data": {
      "text/plain": [
       "\n",
       "Object of class rule.\n",
       " expr       : height/weight > 0.5 \n",
       " name       : ratio \n",
       " label      :  \n",
       " description:  \n",
       " origin     : command-line \n",
       " created    : 2016-12-01 17:11:08"
      ]
     },
     "metadata": {},
     "output_type": "display_data"
    }
   ],
   "source": [
    "v[[1]]"
   ]
  },
  {
   "cell_type": "code",
   "execution_count": null,
   "metadata": {
    "collapsed": true
   },
   "outputs": [],
   "source": []
  }
 ],
 "metadata": {
  "anaconda-cloud": {},
  "kernelspec": {
   "display_name": "R",
   "language": "R",
   "name": "ir"
  },
  "language_info": {
   "codemirror_mode": "r",
   "file_extension": ".r",
   "mimetype": "text/x-r-source",
   "name": "R",
   "pygments_lexer": "r",
   "version": "3.3.1"
  },
  "toc": {
   "nav_menu": {
    "height": "142px",
    "width": "252px"
   },
   "navigate_menu": true,
   "number_sections": false,
   "sideBar": false,
   "threshold": 4,
   "toc_cell": false,
   "toc_section_display": "block",
   "toc_window_display": false
  }
 },
 "nbformat": 4,
 "nbformat_minor": 1
}
